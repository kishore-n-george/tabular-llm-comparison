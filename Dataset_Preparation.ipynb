{
  "nbformat": 4,
  "nbformat_minor": 0,
  "metadata": {
    "colab": {
      "provenance": [],
      "gpuType": "T4",
      "authorship_tag": "ABX9TyM0eUS8spVoYWDYckx5frEa",
      "include_colab_link": true
    },
    "kernelspec": {
      "name": "python3",
      "display_name": "Python 3"
    },
    "language_info": {
      "name": "python"
    },
    "accelerator": "GPU"
  },
  "cells": [
    {
      "cell_type": "markdown",
      "metadata": {
        "id": "view-in-github",
        "colab_type": "text"
      },
      "source": [
        "<a href=\"https://colab.research.google.com/github/kishore-n-george/tabular-llm-comparison/blob/main/Dataset_Preparation.ipynb\" target=\"_parent\"><img src=\"https://colab.research.google.com/assets/colab-badge.svg\" alt=\"Open In Colab\"/></a>"
      ]
    },
    {
      "cell_type": "code",
      "execution_count": 1,
      "metadata": {
        "id": "RNv-rVWZp9g2",
        "colab": {
          "base_uri": "https://localhost:8080/"
        },
        "outputId": "68bcde09-f237-4794-e0d4-41531fde540c"
      },
      "outputs": [
        {
          "output_type": "stream",
          "name": "stdout",
          "text": [
            "Collecting ucimlrepo\n",
            "  Downloading ucimlrepo-0.0.7-py3-none-any.whl.metadata (5.5 kB)\n",
            "Requirement already satisfied: pandas>=1.0.0 in /usr/local/lib/python3.11/dist-packages (from ucimlrepo) (2.2.2)\n",
            "Requirement already satisfied: certifi>=2020.12.5 in /usr/local/lib/python3.11/dist-packages (from ucimlrepo) (2024.12.14)\n",
            "Requirement already satisfied: numpy>=1.23.2 in /usr/local/lib/python3.11/dist-packages (from pandas>=1.0.0->ucimlrepo) (1.26.4)\n",
            "Requirement already satisfied: python-dateutil>=2.8.2 in /usr/local/lib/python3.11/dist-packages (from pandas>=1.0.0->ucimlrepo) (2.8.2)\n",
            "Requirement already satisfied: pytz>=2020.1 in /usr/local/lib/python3.11/dist-packages (from pandas>=1.0.0->ucimlrepo) (2024.2)\n",
            "Requirement already satisfied: tzdata>=2022.7 in /usr/local/lib/python3.11/dist-packages (from pandas>=1.0.0->ucimlrepo) (2025.1)\n",
            "Requirement already satisfied: six>=1.5 in /usr/local/lib/python3.11/dist-packages (from python-dateutil>=2.8.2->pandas>=1.0.0->ucimlrepo) (1.17.0)\n",
            "Downloading ucimlrepo-0.0.7-py3-none-any.whl (8.0 kB)\n",
            "Installing collected packages: ucimlrepo\n",
            "Successfully installed ucimlrepo-0.0.7\n"
          ]
        }
      ],
      "source": [
        "!pip install ucimlrepo\n",
        "import pandas as pd\n",
        "import numpy as np\n",
        "import matplotlib.pyplot as plt\n",
        "import seaborn as sns\n",
        "from ucimlrepo import fetch_ucirepo, dotdict\n",
        "\n",
        "# Set up configurations for consistent plotting\n",
        "sns.set(style=\"whitegrid\")"
      ]
    },
    {
      "cell_type": "code",
      "source": [
        "# Define a function for loading datasets\n",
        "def fetch_airbnb_dataset(file_path='/content/AB_NYC_2019.csv', dataset_name='AirBnb'):\n",
        "    \"\"\"Load dataset and print basic info.\"\"\"\n",
        "    try:\n",
        "        data = pd.read_csv(file_path)\n",
        "        print(f\"{dataset_name} loaded successfully!\\n\")\n",
        "        print(f\"Dataset shape: {data.shape}\\n\")\n",
        "        print(f\"Columns:\\n{data.columns.tolist()}\\n\")\n",
        "        print(f\"First 5 rows:\\n{data.head()}\\n\")\n",
        "        return data\n",
        "    except Exception as e:\n",
        "        print(f\"Error loading {dataset_name}: {e}\")\n",
        "        return None\n",
        "\n",
        "fetch_airbnb_dataset();"
      ],
      "metadata": {
        "colab": {
          "base_uri": "https://localhost:8080/"
        },
        "id": "use9RIgZeGyV",
        "outputId": "6f51523f-a151-4b5a-8934-cc8e3954d4e3"
      },
      "execution_count": 2,
      "outputs": [
        {
          "output_type": "stream",
          "name": "stdout",
          "text": [
            "Error loading AirBnb: [Errno 2] No such file or directory: '/content/AB_NYC_2019.csv'\n"
          ]
        }
      ]
    },
    {
      "cell_type": "code",
      "source": [
        "data = fetch_ucirepo(id=275)"
      ],
      "metadata": {
        "id": "gz4izWaTaxV9"
      },
      "execution_count": 3,
      "outputs": []
    },
    {
      "cell_type": "code",
      "source": [
        "# print(data.data)\n",
        "print(data.metadata.target_col[0])\n",
        "#print(data.data.features)"
      ],
      "metadata": {
        "colab": {
          "base_uri": "https://localhost:8080/"
        },
        "id": "gi1pkV3XbW23",
        "outputId": "ecfa4f6b-9a59-4e53-dedc-c80516711a5b"
      },
      "execution_count": 4,
      "outputs": [
        {
          "output_type": "stream",
          "name": "stdout",
          "text": [
            "cnt\n"
          ]
        }
      ]
    },
    {
      "cell_type": "code",
      "source": [
        "# Define a function for preprocessing\n",
        "def preprocess_data(data, categorical_cols=None, scaling_cols=None):\n",
        "    \"\"\"Preprocess dataset: handle missing values, encode categories, scale numeric data.\"\"\"\n",
        "    # Handle missing values\n",
        "    data = data.dropna()  # Drop rows with missing values for simplicity\n",
        "\n",
        "    # One-hot encoding for categorical features\n",
        "    if categorical_cols:\n",
        "        data = pd.get_dummies(data, columns=categorical_cols, drop_first=True)\n",
        "\n",
        "    # Scale numeric columns\n",
        "    if scaling_cols:\n",
        "        from sklearn.preprocessing import StandardScaler\n",
        "        scaler = StandardScaler()\n",
        "        data[scaling_cols] = scaler.fit_transform(data[scaling_cols])\n",
        "\n",
        "    print(\"Data preprocessing complete.\\n\")\n",
        "    return data\n",
        "\n",
        "# Define a function for exploratory data analysis\n",
        "def perform_eda(data, target_column):\n",
        "    \"\"\"Perform basic EDA: print stats, plot distributions, and check correlations.\"\"\"\n",
        "    print(\"Basic Statistics:\\n\")\n",
        "    print(data.describe().T)\n",
        "\n",
        "    # Plot target variable distribution\n",
        "    plt.figure(figsize=(8, 5))\n",
        "    sns.histplot(data[target_column], kde=True, bins=30)\n",
        "    plt.title(f\"Distribution of {target_column}\")\n",
        "    plt.show()\n",
        "\n",
        "    # Plot correlation heatmap\n",
        "    plt.figure(figsize=(12, 8))\n",
        "    corr = data.corr()\n",
        "    sns.heatmap(corr, annot=True, fmt=\".2f\", cmap=\"coolwarm\", mask=np.triu(corr))\n",
        "    plt.title(\"Correlation Matrix\")\n",
        "    plt.show()\n",
        "\n",
        "def get_all_datasets_dict():\n",
        "  return {\n",
        "      \"Bike Sharing\": dataframes[\"Bike Sharing\"],\n",
        "      \"NYC Airbnb\": dataframes[\"NYC Airbnb\"],\n",
        "      \"Dry Bean\": dataframes[\"Dry Bean\"],\n",
        "      \"Online Shoppers\": dataframes[\"Online Shoppers\"]\n",
        "        }\n",
        "\n",
        "\n",
        "\n",
        "def process_all_datasets():\n",
        "  # Paths to datasets (to be updated with actual paths)\n",
        "  # Process each dataset\n",
        "  dataframes = {}\n",
        "\n",
        "  datasets = {\n",
        "      #\"Bike Sharing\": 275,\n",
        "      \"NYC Airbnb\": fetch_airbnb_dataset,\n",
        "      #\"Dry Bean\": 602,\n",
        "      #\"Online Shoppers\": 468\n",
        "  }\n",
        "\n",
        "  # Define target columns for each dataset\n",
        "  target_columns = {\n",
        "      \"Bike Sharing\": \"count\",  # Replace with actual target column name\n",
        "      \"NYC Airbnb\": \"price\",  # Replace with actual target column name\n",
        "      \"Dry Bean\": \"Class\",  # Replace with actual target column name\n",
        "      \"Online Shoppers\": \"Revenue\",  # Replace with actual target column name\n",
        "  }\n",
        "\n",
        "\n",
        "  for dataset_name, id_fn in datasets.items():\n",
        "      print(f\"Processing {dataset_name} dataset...\\n\")\n",
        "      if(isinstance(id_fn,int)):\n",
        "        dataset = fetch_ucirepo(id=id_fn)\n",
        "      else:\n",
        "        dataset = id_fn()\n",
        "      if dataset is not None:\n",
        "          if((isinstance(dataset, dotdict))):\n",
        "            #data = data.data\n",
        "            original = dataset.data.original\n",
        "            target_col = data.metadata.target_col[0]\n",
        "            print(target_col)\n",
        "          else:\n",
        "            original = dataset\n",
        "            target_col = target_columns.get(dataset_name)\n",
        "\n",
        "\n",
        "          # Identify categorical and scaling columns (to be refined per dataset)\n",
        "          categorical_cols = original.select_dtypes(include=['object']).columns.tolist()\n",
        "          scaling_cols = original.select_dtypes(include=['float64', 'int64']).columns.tolist()\n",
        "          scaling_cols.remove(target_col)  # Exclude target column from scaling\n",
        "\n",
        "          # Preprocess data\n",
        "          processed_data = preprocess_data(original, categorical_cols, scaling_cols)\n",
        "\n",
        "          # Perform EDA\n",
        "          perform_eda(processed_data, target_col)\n",
        "\n",
        "          # Save processed dataframe\n",
        "          dataframes[dataset_name] = processed_data\n",
        "\n",
        "  print(\"Dataset preparation completed for all datasets.\")\n",
        "  print(dataframes)\n",
        "  return dataframes\n",
        "\n",
        "dataframes = process_all_datasets()\n",
        "print(\"completed!!!!!!\")"
      ],
      "metadata": {
        "id": "ZTRN_mxVtv_c",
        "colab": {
          "base_uri": "https://localhost:8080/",
          "height": 1000
        },
        "outputId": "ca079274-bd78-4cb3-cb56-3b59c8b3b604"
      },
      "execution_count": null,
      "outputs": [
        {
          "output_type": "stream",
          "name": "stdout",
          "text": [
            "Processing NYC Airbnb dataset...\n",
            "\n",
            "AirBnb loaded successfully!\n",
            "\n",
            "Dataset shape: (48895, 16)\n",
            "\n",
            "Columns:\n",
            "['id', 'name', 'host_id', 'host_name', 'neighbourhood_group', 'neighbourhood', 'latitude', 'longitude', 'room_type', 'price', 'minimum_nights', 'number_of_reviews', 'last_review', 'reviews_per_month', 'calculated_host_listings_count', 'availability_365']\n",
            "\n",
            "First 5 rows:\n",
            "     id                                              name  host_id  \\\n",
            "0  2539                Clean & quiet apt home by the park     2787   \n",
            "1  2595                             Skylit Midtown Castle     2845   \n",
            "2  3647               THE VILLAGE OF HARLEM....NEW YORK !     4632   \n",
            "3  3831                   Cozy Entire Floor of Brownstone     4869   \n",
            "4  5022  Entire Apt: Spacious Studio/Loft by central park     7192   \n",
            "\n",
            "     host_name neighbourhood_group neighbourhood  latitude  longitude  \\\n",
            "0         John            Brooklyn    Kensington  40.64749  -73.97237   \n",
            "1     Jennifer           Manhattan       Midtown  40.75362  -73.98377   \n",
            "2    Elisabeth           Manhattan        Harlem  40.80902  -73.94190   \n",
            "3  LisaRoxanne            Brooklyn  Clinton Hill  40.68514  -73.95976   \n",
            "4        Laura           Manhattan   East Harlem  40.79851  -73.94399   \n",
            "\n",
            "         room_type  price  minimum_nights  number_of_reviews last_review  \\\n",
            "0     Private room    149               1                  9  2018-10-19   \n",
            "1  Entire home/apt    225               1                 45  2019-05-21   \n",
            "2     Private room    150               3                  0         NaN   \n",
            "3  Entire home/apt     89               1                270  2019-07-05   \n",
            "4  Entire home/apt     80              10                  9  2018-11-19   \n",
            "\n",
            "   reviews_per_month  calculated_host_listings_count  availability_365  \n",
            "0               0.21                               6               365  \n",
            "1               0.38                               2               355  \n",
            "2                NaN                               1               365  \n",
            "3               4.64                               1               194  \n",
            "4               0.10                               1                 0  \n",
            "\n",
            "Data preprocessing complete.\n",
            "\n",
            "Basic Statistics:\n",
            "\n",
            "                                  count          mean         std       min  \\\n",
            "id                              38821.0  9.371162e-17    1.000013 -1.692442   \n",
            "host_id                         38821.0 -9.371162e-17    1.000013 -0.846460   \n",
            "latitude                        38821.0 -7.513476e-14    1.000013 -4.031988   \n",
            "longitude                       38821.0  2.095333e-13    1.000013 -6.280924   \n",
            "price                           38821.0  1.423325e+02  196.994756  0.000000   \n",
            "minimum_nights                  38821.0  2.635639e-17    1.000013 -0.280020   \n",
            "number_of_reviews               38821.0  4.685581e-17    1.000013 -0.587151   \n",
            "reviews_per_month               38821.0  2.342791e-17    1.000013 -0.811298   \n",
            "calculated_host_listings_count  38821.0  4.099883e-17    1.000013 -0.158411   \n",
            "availability_365                38821.0  1.757093e-17    1.000013 -0.886959   \n",
            "\n",
            "                                      25%         50%         75%  \\\n",
            "id                              -0.877102    0.072197    0.885264   \n",
            "host_id                         -0.753872   -0.472682    0.496001   \n",
            "latitude                        -0.718114   -0.116733    0.633949   \n",
            "longitude                       -0.670585   -0.078411    0.345427   \n",
            "price                           69.000000  101.000000  170.000000   \n",
            "minimum_nights                  -0.280020   -0.222512   -0.107496   \n",
            "number_of_reviews               -0.545642   -0.421114    0.076994   \n",
            "reviews_per_month               -0.704175   -0.388756    0.384912   \n",
            "calculated_host_listings_count  -0.158411   -0.158411   -0.120391   \n",
            "availability_365                -0.886959   -0.462341    0.880994   \n",
            "\n",
            "                                         max  \n",
            "id                                  1.716450  \n",
            "host_id                             2.761600  \n",
            "latitude                            3.362989  \n",
            "longitude                           5.100595  \n",
            "price                           10000.000000  \n",
            "minimum_nights                     71.547813  \n",
            "number_of_reviews                  12.446687  \n",
            "reviews_per_month                  33.997835  \n",
            "calculated_host_listings_count     12.235794  \n",
            "availability_365                    1.930958  \n"
          ]
        },
        {
          "output_type": "display_data",
          "data": {
            "text/plain": [
              "<Figure size 800x500 with 1 Axes>"
            ],
            "image/png": "[encoded data removed]"
          },
          "metadata": {}
        }
      ]
    },
    {
      "cell_type": "code",
      "source": [],
      "metadata": {
        "id": "Uep0OSjcla2p"
      },
      "execution_count": null,
      "outputs": []
    }
  ]
}